{
  "nbformat": 4,
  "nbformat_minor": 0,
  "metadata": {
    "colab": {
      "provenance": []
    },
    "kernelspec": {
      "name": "python3",
      "display_name": "Python 3"
    },
    "language_info": {
      "name": "python"
    }
  },
  "cells": [
    {
      "cell_type": "markdown",
      "source": [
        "# Tratamento e geração do csv"
      ],
      "metadata": {
        "id": "MM9ei7R3_KUB"
      }
    },
    {
      "cell_type": "code",
      "source": [
        "!pip install googlemaps\n",
        "!pip install odfpy\n",
        "\n",
        "import pandas as pd\n",
        "import matplotlib.pyplot as plt\n",
        "import seaborn as sns\n",
        "import os\n",
        "import numpy as np\n",
        "import googlemaps\n",
        "from datetime import datetime\n",
        "from google.colab import userdata"
      ],
      "metadata": {
        "collapsed": true,
        "id": "ClfIb4uqVKc3"
      },
      "execution_count": null,
      "outputs": []
    },
    {
      "cell_type": "code",
      "execution_count": null,
      "metadata": {
        "id": "b9VR2M3rIYzW"
      },
      "outputs": [],
      "source": [
        "# # Código de tratamento\n",
        "# for ano in range(2015, 2020):\n",
        "#   if f'Acidentes {ano}.ods' not in os.listdir():\n",
        "#     !wget https://raw.githubusercontent.com/namespaiva/pi-acidentes/main/dados/Acidentes%20{ano}.ods\n",
        "\n",
        "# for ano in range(2020, 2025):\n",
        "#   if f'Acidentes {ano}.xls' not in os.listdir():\n",
        "#     !wget https://raw.githubusercontent.com/namespaiva/pi-acidentes/main/dados/Acidentes%20{ano}.xls\n",
        "\n",
        "# dados = pd.DataFrame()\n",
        "\n",
        "# for ano in range (2015, 2020):\n",
        "#   dados = pd.concat([dados, pd.read_excel(f'Acidentes {ano}.ods', engine='odf')])\n",
        "\n",
        "# dados1 = dados.copy()\n",
        "\n",
        "# for ano in range(2020, 2025):\n",
        "#   dados = pd.concat([dados, pd.read_excel(f'Acidentes {ano}.xls')])\n",
        "\n",
        "# df = dados.sort_values(by=['DATA', 'HORA'])\n",
        "\n",
        "# df['CRUZAMENTO'] = df['CRUZAMENTO'].astype(str) + df['CRUZAMENTO.1'].astype(str)\n",
        "# df['LOGRADOURO'] = df['LOGRADOURO'].astype(str) + df['LOGRADOURO1'].astype(str)\n",
        "# df = df.drop(columns=['LOGRADOURO1', 'CRUZAMENTO.1', 'Unnamed: 0', 2])\n",
        "# df.rename(columns={'Nº': 'NUMERO'}, inplace=True)\n",
        "# df.to_csv('acidentes.csv', index=False)\n",
        "\n",
        "# def remove_nans(s):\n",
        "#     s = str(s)\n",
        "#     if s == 'nan':\n",
        "#         return s\n",
        "#     elif s.startswith(\"nan\"):\n",
        "#         return s[3:]  # Skip the first 3 characters if they are \"nan\"\n",
        "#     elif s.endswith(\"nan\"):\n",
        "#         return s[:-3]  # Skip the last 3 characters if they are \"nan\"\n",
        "#     else:\n",
        "#       return s\n",
        "\n",
        "# df['LOGRADOURO'] = df['LOGRADOURO'].apply(remove_nans)\n",
        "# df['CRUZAMENTO'] = df['CRUZAMENTO'].apply(remove_nans)\n",
        "\n",
        "# df['DATA'] = pd.to_datetime(df['DATA'])\n",
        "# df['NUMERO'] = df['NUMERO'].astype(str)\n",
        "# df['lat'] = ''\n",
        "# df['lng'] = ''\n",
        "# df['types'] = ''\n",
        "# df['bairro'] = ''\n",
        "# df.rename(columns={'DATA': 'data', 'HORA': 'hora', 'TEMPO': 'tempo',\n",
        "#                    'TIPO_ACIDENTE': 'tipo_acidente', 'GRAVIDADE': 'gravidade',\n",
        "#                    'LOGRADOURO': 'logradouro', 'NUMERO': 'numero', 'CRUZAMENTO': 'cruzamento'}, inplace=True)"
      ]
    },
    {
      "cell_type": "code",
      "source": [
        "# gravidades = list(df['gravidade'].unique())\n",
        "\n",
        "# df['gravidade'] = df['gravidade'].apply(lambda x: 'nan' if pd.isna(x) else x)\n",
        "# df['gravidade'] = df['gravidade'].apply(lambda x: 'nan' if x == ' ' else x)"
      ],
      "metadata": {
        "id": "LENnmLcywDjl"
      },
      "execution_count": null,
      "outputs": []
    },
    {
      "cell_type": "code",
      "source": [
        "# gravidades = list(df['gravidade'].unique())\n",
        "# gravidades.remove('nan')\n",
        "# df['temp'] = df['cruzamento']\n",
        "\n",
        "# new_gravidade_values = []\n",
        "# new_temp_values = []\n",
        "\n",
        "# for index, row in df.iterrows():\n",
        "#     temp_value = row['temp']\n",
        "#     for gravidade in gravidades:\n",
        "#         if str(gravidade) in temp_value:\n",
        "#             new_gravidade_values.append(str(gravidade))\n",
        "#             temp_value = temp_value.replace(str(gravidade), '')\n",
        "#             break\n",
        "#     else:\n",
        "#         new_gravidade_values.append(np.nan)\n",
        "\n",
        "#     new_temp_values.append(temp_value)\n",
        "\n",
        "# df['temp'] = new_temp_values\n",
        "\n",
        "# df['cruzamento'] = df['temp']\n",
        "# df.drop(columns=['temp'], axis=1, inplace=True)"
      ],
      "metadata": {
        "id": "N9gozTHolCwB"
      },
      "execution_count": null,
      "outputs": []
    },
    {
      "cell_type": "code",
      "source": [
        "# df[df['data'].dt.year == 2021]\n",
        "# df['cruzamento'] = df['cruzamento'].apply(lambda x: 'nan' if x == '' else x)\n",
        "# df['cruzamento'].unique()"
      ],
      "metadata": {
        "id": "PZnTXt_8g3vV"
      },
      "execution_count": null,
      "outputs": []
    },
    {
      "cell_type": "code",
      "source": [
        "# !wget https://raw.githubusercontent.com/namespaiva/pi-acidentes/main/dados/Acidentes%202021.xls\n",
        "\n",
        "# df = pd.read_csv('acidentes.csv')\n",
        "# df['data'] = pd.to_datetime(df['data'])\n",
        "# df.sort_values(by=['data', 'hora'], inplace=True)\n",
        "# df.reset_index(drop=True, inplace=True)\n",
        "\n",
        "# df2021 = pd.read_excel('Acidentes 2021.xls')\n",
        "\n",
        "# mask_2021 = df['data'].dt.year == 2021\n",
        "\n",
        "# # Check if the number of rows matches\n",
        "# if len(df2021) == sum(mask_2021):\n",
        "#     # Update 'gravidade' column where the year is 2021\n",
        "#     df.loc[mask_2021, 'gravidade'] = df2021['CRUZAMENTO'].values\n",
        "# else:\n",
        "#     print(\"Erro filtrando df\")\n"
      ],
      "metadata": {
        "id": "fkUtymJwjrWd"
      },
      "execution_count": 49,
      "outputs": []
    },
    {
      "cell_type": "code",
      "source": [
        "df = pd.read_csv('acidentes.csv')\n",
        "df.sort_values(by=['data', 'hora'], inplace=True)\n",
        "df.reset_index(drop=True, inplace=True)"
      ],
      "metadata": {
        "id": "4nDMQL0Fr4kI"
      },
      "execution_count": 105,
      "outputs": []
    },
    {
      "cell_type": "code",
      "source": [
        "chave = userdata.get('chave')\n",
        "\n",
        "gmaps = googlemaps.Client(key=chave)"
      ],
      "metadata": {
        "id": "mN1IGiGF_c-Q"
      },
      "execution_count": 103,
      "outputs": []
    },
    {
      "cell_type": "code",
      "source": [
        "for index, row in df.iterrows():\n",
        "  if pd.isna(row['cruzamento']): # Use pd.isna() to check for NaN in any data type\n",
        "    local = str(row['numero']) + ' ' + str(row['logradouro']) # Ensure concatenation compatibility\n",
        "  else:\n",
        "    local = str(row['logradouro']) + ' ' + str(row['cruzamento']) # Ensure concatenation compatibility\n",
        "\n",
        "  geocode_result = gmaps.geocode(f'{local}, Santos, SP, Brazil')\n",
        "\n",
        "  if pd.isna(row['cruzamento']):\n",
        "    if len(geocode_result[0]['address_components']) > 2 and 'long_name' in geocode_result[0]['address_components'][2]:\n",
        "      df.at[index, 'bairro'] = geocode_result[0]['address_components'][2]['long_name']\n",
        "    else:\n",
        "      print(index)\n",
        "      df.at[index, 'bairro'] = 'Bairro não encontrado'\n",
        "  else:\n",
        "    if len(geocode_result[0]['address_components']) > 2 and 'long_name' in geocode_result[0]['address_components'][2]:\n",
        "      df.at[index, 'bairro'] = geocode_result[0]['address_components'][1]['long_name']\n",
        "    else:\n",
        "      print(index)\n",
        "      df.at[index, 'bairro'] = 'Bairro não encontrado'\n",
        "\n",
        "  df.at[index, 'types'] = geocode_result[0]['types']\n",
        "  df.at[index, 'lat'] = geocode_result[0]['geometry']['location']['lat']\n",
        "  df.at[index, 'lng'] = geocode_result[0]['geometry']['location']['lng']\n",
        "\n",
        "df.head(10)"
      ],
      "metadata": {
        "id": "MwsS9rCUAn_U",
        "outputId": "9211f4e8-f9b1-4126-9c75-3ac0840a4d0e",
        "colab": {
          "base_uri": "https://localhost:8080/",
          "height": 376
        }
      },
      "execution_count": 104,
      "outputs": [
        {
          "output_type": "error",
          "ename": "ApiError",
          "evalue": "REQUEST_DENIED (The provided API key is expired. )",
          "traceback": [
            "\u001b[0;31m---------------------------------------------------------------------------\u001b[0m",
            "\u001b[0;31mApiError\u001b[0m                                  Traceback (most recent call last)",
            "\u001b[0;32m<ipython-input-104-59e2cd024a93>\u001b[0m in \u001b[0;36m<cell line: 1>\u001b[0;34m()\u001b[0m\n\u001b[1;32m      6\u001b[0m \u001b[0;34m\u001b[0m\u001b[0m\n\u001b[1;32m      7\u001b[0m   \u001b[0;31m#print(local)\u001b[0m\u001b[0;34m\u001b[0m\u001b[0;34m\u001b[0m\u001b[0m\n\u001b[0;32m----> 8\u001b[0;31m   \u001b[0mgeocode_result\u001b[0m \u001b[0;34m=\u001b[0m \u001b[0mgmaps\u001b[0m\u001b[0;34m.\u001b[0m\u001b[0mgeocode\u001b[0m\u001b[0;34m(\u001b[0m\u001b[0;34mf'{local}, Santos, SP, Brazil'\u001b[0m\u001b[0;34m)\u001b[0m\u001b[0;34m\u001b[0m\u001b[0;34m\u001b[0m\u001b[0m\n\u001b[0m\u001b[1;32m      9\u001b[0m \u001b[0;34m\u001b[0m\u001b[0m\n\u001b[1;32m     10\u001b[0m   \u001b[0;32mif\u001b[0m \u001b[0mpd\u001b[0m\u001b[0;34m.\u001b[0m\u001b[0misna\u001b[0m\u001b[0;34m(\u001b[0m\u001b[0mrow\u001b[0m\u001b[0;34m[\u001b[0m\u001b[0;34m'cruzamento'\u001b[0m\u001b[0;34m]\u001b[0m\u001b[0;34m)\u001b[0m\u001b[0;34m:\u001b[0m\u001b[0;34m\u001b[0m\u001b[0;34m\u001b[0m\u001b[0m\n",
            "\u001b[0;32m/usr/local/lib/python3.10/dist-packages/googlemaps/client.py\u001b[0m in \u001b[0;36mwrapper\u001b[0;34m(*args, **kwargs)\u001b[0m\n\u001b[1;32m    443\u001b[0m     \u001b[0;32mdef\u001b[0m \u001b[0mwrapper\u001b[0m\u001b[0;34m(\u001b[0m\u001b[0;34m*\u001b[0m\u001b[0margs\u001b[0m\u001b[0;34m,\u001b[0m \u001b[0;34m**\u001b[0m\u001b[0mkwargs\u001b[0m\u001b[0;34m)\u001b[0m\u001b[0;34m:\u001b[0m\u001b[0;34m\u001b[0m\u001b[0;34m\u001b[0m\u001b[0m\n\u001b[1;32m    444\u001b[0m         \u001b[0margs\u001b[0m\u001b[0;34m[\u001b[0m\u001b[0;36m0\u001b[0m\u001b[0;34m]\u001b[0m\u001b[0;34m.\u001b[0m\u001b[0m_extra_params\u001b[0m \u001b[0;34m=\u001b[0m \u001b[0mkwargs\u001b[0m\u001b[0;34m.\u001b[0m\u001b[0mpop\u001b[0m\u001b[0;34m(\u001b[0m\u001b[0;34m\"extra_params\"\u001b[0m\u001b[0;34m,\u001b[0m \u001b[0;32mNone\u001b[0m\u001b[0;34m)\u001b[0m\u001b[0;34m\u001b[0m\u001b[0;34m\u001b[0m\u001b[0m\n\u001b[0;32m--> 445\u001b[0;31m         \u001b[0mresult\u001b[0m \u001b[0;34m=\u001b[0m \u001b[0mfunc\u001b[0m\u001b[0;34m(\u001b[0m\u001b[0;34m*\u001b[0m\u001b[0margs\u001b[0m\u001b[0;34m,\u001b[0m \u001b[0;34m**\u001b[0m\u001b[0mkwargs\u001b[0m\u001b[0;34m)\u001b[0m\u001b[0;34m\u001b[0m\u001b[0;34m\u001b[0m\u001b[0m\n\u001b[0m\u001b[1;32m    446\u001b[0m         \u001b[0;32mtry\u001b[0m\u001b[0;34m:\u001b[0m\u001b[0;34m\u001b[0m\u001b[0;34m\u001b[0m\u001b[0m\n\u001b[1;32m    447\u001b[0m             \u001b[0;32mdel\u001b[0m \u001b[0margs\u001b[0m\u001b[0;34m[\u001b[0m\u001b[0;36m0\u001b[0m\u001b[0;34m]\u001b[0m\u001b[0;34m.\u001b[0m\u001b[0m_extra_params\u001b[0m\u001b[0;34m\u001b[0m\u001b[0;34m\u001b[0m\u001b[0m\n",
            "\u001b[0;32m/usr/local/lib/python3.10/dist-packages/googlemaps/geocoding.py\u001b[0m in \u001b[0;36mgeocode\u001b[0;34m(client, address, place_id, components, bounds, region, language)\u001b[0m\n\u001b[1;32m     73\u001b[0m         \u001b[0mparams\u001b[0m\u001b[0;34m[\u001b[0m\u001b[0;34m\"language\"\u001b[0m\u001b[0;34m]\u001b[0m \u001b[0;34m=\u001b[0m \u001b[0mlanguage\u001b[0m\u001b[0;34m\u001b[0m\u001b[0;34m\u001b[0m\u001b[0m\n\u001b[1;32m     74\u001b[0m \u001b[0;34m\u001b[0m\u001b[0m\n\u001b[0;32m---> 75\u001b[0;31m     \u001b[0;32mreturn\u001b[0m \u001b[0mclient\u001b[0m\u001b[0;34m.\u001b[0m\u001b[0m_request\u001b[0m\u001b[0;34m(\u001b[0m\u001b[0;34m\"/maps/api/geocode/json\"\u001b[0m\u001b[0;34m,\u001b[0m \u001b[0mparams\u001b[0m\u001b[0;34m)\u001b[0m\u001b[0;34m.\u001b[0m\u001b[0mget\u001b[0m\u001b[0;34m(\u001b[0m\u001b[0;34m\"results\"\u001b[0m\u001b[0;34m,\u001b[0m \u001b[0;34m[\u001b[0m\u001b[0;34m]\u001b[0m\u001b[0;34m)\u001b[0m\u001b[0;34m\u001b[0m\u001b[0;34m\u001b[0m\u001b[0m\n\u001b[0m\u001b[1;32m     76\u001b[0m \u001b[0;34m\u001b[0m\u001b[0m\n\u001b[1;32m     77\u001b[0m \u001b[0;34m\u001b[0m\u001b[0m\n",
            "\u001b[0;32m/usr/local/lib/python3.10/dist-packages/googlemaps/client.py\u001b[0m in \u001b[0;36m_request\u001b[0;34m(self, url, params, first_request_time, retry_counter, base_url, accepts_clientid, extract_body, requests_kwargs, post_json)\u001b[0m\n\u001b[1;32m    338\u001b[0m                 \u001b[0mresult\u001b[0m \u001b[0;34m=\u001b[0m \u001b[0mextract_body\u001b[0m\u001b[0;34m(\u001b[0m\u001b[0mresponse\u001b[0m\u001b[0;34m)\u001b[0m\u001b[0;34m\u001b[0m\u001b[0;34m\u001b[0m\u001b[0m\n\u001b[1;32m    339\u001b[0m             \u001b[0;32melse\u001b[0m\u001b[0;34m:\u001b[0m\u001b[0;34m\u001b[0m\u001b[0;34m\u001b[0m\u001b[0m\n\u001b[0;32m--> 340\u001b[0;31m                 \u001b[0mresult\u001b[0m \u001b[0;34m=\u001b[0m \u001b[0mself\u001b[0m\u001b[0;34m.\u001b[0m\u001b[0m_get_body\u001b[0m\u001b[0;34m(\u001b[0m\u001b[0mresponse\u001b[0m\u001b[0;34m)\u001b[0m\u001b[0;34m\u001b[0m\u001b[0;34m\u001b[0m\u001b[0m\n\u001b[0m\u001b[1;32m    341\u001b[0m             \u001b[0mself\u001b[0m\u001b[0;34m.\u001b[0m\u001b[0msent_times\u001b[0m\u001b[0;34m.\u001b[0m\u001b[0mappend\u001b[0m\u001b[0;34m(\u001b[0m\u001b[0mtime\u001b[0m\u001b[0;34m.\u001b[0m\u001b[0mtime\u001b[0m\u001b[0;34m(\u001b[0m\u001b[0;34m)\u001b[0m\u001b[0;34m)\u001b[0m\u001b[0;34m\u001b[0m\u001b[0;34m\u001b[0m\u001b[0m\n\u001b[1;32m    342\u001b[0m             \u001b[0;32mreturn\u001b[0m \u001b[0mresult\u001b[0m\u001b[0;34m\u001b[0m\u001b[0;34m\u001b[0m\u001b[0m\n",
            "\u001b[0;32m/usr/local/lib/python3.10/dist-packages/googlemaps/client.py\u001b[0m in \u001b[0;36m_get_body\u001b[0;34m(self, response)\u001b[0m\n\u001b[1;32m    367\u001b[0m                 api_status, body.get(\"error_message\"))\n\u001b[1;32m    368\u001b[0m \u001b[0;34m\u001b[0m\u001b[0m\n\u001b[0;32m--> 369\u001b[0;31m         raise googlemaps.exceptions.ApiError(api_status,\n\u001b[0m\u001b[1;32m    370\u001b[0m                                              body.get(\"error_message\"))\n\u001b[1;32m    371\u001b[0m \u001b[0;34m\u001b[0m\u001b[0m\n",
            "\u001b[0;31mApiError\u001b[0m: REQUEST_DENIED (The provided API key is expired. )"
          ]
        }
      ]
    },
    {
      "cell_type": "code",
      "source": [
        "# df.to_csv('acidentes.csv', index=False)"
      ],
      "metadata": {
        "id": "B6cKaKrktwFd"
      },
      "execution_count": null,
      "outputs": []
    },
    {
      "cell_type": "markdown",
      "source": [
        "# Análise"
      ],
      "metadata": {
        "id": "beI1_UjT_GW3"
      }
    },
    {
      "cell_type": "code",
      "source": [
        "import folium\n",
        "from folium.plugins import HeatMap\n",
        "import pandas as pd\n",
        "import matplotlib.pyplot as plt\n",
        "import seaborn as sns\n",
        "import os\n",
        "import numpy as np\n",
        "\n",
        "if 'acidentes.csv' not in os.listdir():\n",
        "  !wget https://raw.githubusercontent.com/namespaiva/pi-acidentes/main/dados/acidentes.csv\n",
        "  df = pd.read_csv('acidentes.csv')\n",
        "\n",
        "df['data'] = pd.to_datetime(df['data'])\n",
        "df.sort_values(by=['data', 'hora'], inplace=True)\n",
        "df.reset_index(drop=True, inplace=True)\n",
        "\n",
        "df.describe"
      ],
      "metadata": {
        "id": "M0393vugubsA",
        "collapsed": true
      },
      "execution_count": null,
      "outputs": []
    },
    {
      "cell_type": "code",
      "source": [],
      "metadata": {
        "id": "1FOwpL5NIU7f"
      },
      "execution_count": null,
      "outputs": []
    }
  ]
}